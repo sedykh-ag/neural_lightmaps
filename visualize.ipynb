{
 "cells": [
  {
   "cell_type": "code",
   "execution_count": 1,
   "id": "f02a40cd",
   "metadata": {},
   "outputs": [],
   "source": [
    "import json\n",
    "import numpy as np\n",
    "import matplotlib.pyplot as plt\n",
    "\n",
    "np.set_printoptions(precision=5)"
   ]
  },
  {
   "cell_type": "code",
   "execution_count": 2,
   "id": "043b8bf4",
   "metadata": {},
   "outputs": [],
   "source": [
    "FILE = \"LightmapsData/SHCoefficients_0\""
   ]
  },
  {
   "cell_type": "code",
   "execution_count": 3,
   "id": "348afca7",
   "metadata": {},
   "outputs": [
    {
     "data": {
      "text/plain": [
       "{'Width': 50,\n",
       " 'Height': 5,\n",
       " 'Depth': 5,\n",
       " 'PixelFormat': 'R8G8B8A8',\n",
       " 'BytesPerPixel': 4,\n",
       " 'TotalBytes': 5000}"
      ]
     },
     "execution_count": 3,
     "metadata": {},
     "output_type": "execute_result"
    }
   ],
   "source": [
    "with open(FILE + \".bin\", \"rb\") as f:\n",
    "  raw_data = f.read()\n",
    "\n",
    "with open(FILE + \".json\", \"r\") as f:\n",
    "  meta_data = json.load(f)\n",
    "\n",
    "meta_data"
   ]
  },
  {
   "cell_type": "code",
   "execution_count": 4,
   "id": "71c0f5cd",
   "metadata": {},
   "outputs": [
    {
     "data": {
      "text/plain": [
       "5000"
      ]
     },
     "execution_count": 4,
     "metadata": {},
     "output_type": "execute_result"
    }
   ],
   "source": [
    "expected_size = meta_data[\"Width\"] * meta_data[\"Height\"] * meta_data[\"Depth\"] * 4\n",
    "expected_size"
   ]
  },
  {
   "cell_type": "code",
   "execution_count": 5,
   "id": "7b771a19",
   "metadata": {},
   "outputs": [
    {
     "data": {
      "text/plain": [
       "(5, 5, 50, 4)"
      ]
     },
     "execution_count": 5,
     "metadata": {},
     "output_type": "execute_result"
    }
   ],
   "source": [
    "arr = np.frombuffer(raw_data, dtype=np.uint8)\n",
    "arr = arr.reshape((meta_data[\"Depth\"], meta_data[\"Height\"], meta_data[\"Width\"], 4))\n",
    "arr.shape"
   ]
  },
  {
   "cell_type": "code",
   "execution_count": 6,
   "id": "5f0a1091",
   "metadata": {},
   "outputs": [
    {
     "data": {
      "image/png": "[encoded data removed]",
      "text/plain": [
       "<Figure size 1500x600 with 5 Axes>"
      ]
     },
     "metadata": {},
     "output_type": "display_data"
    }
   ],
   "source": [
    "cols = 1\n",
    "rows = meta_data[\"Depth\"]\n",
    "fig, axes = plt.subplots(rows, cols, figsize=(15, 6))\n",
    "axes = axes.flatten()\n",
    "for i in range(meta_data[\"Depth\"]):\n",
    "  axes[i].imshow(arr[i])\n",
    "  axes[i].axis('off')\n",
    "  axes[i].set_title(f'Slice {i}')\n",
    "\n",
    "plt.tight_layout()\n",
    "plt.show()"
   ]
  },
  {
   "cell_type": "code",
   "execution_count": 7,
   "id": "c04953c3",
   "metadata": {},
   "outputs": [
    {
     "data": {
      "text/plain": [
       "array([0.82745, 0.56078, 0.61569, 0.59608])"
      ]
     },
     "execution_count": 7,
     "metadata": {},
     "output_type": "execute_result"
    }
   ],
   "source": [
    "arr[0][-1][-1] / np.array([255, 255, 255, 255]) # show bottom right pixel value of first slice"
   ]
  },
  {
   "cell_type": "code",
   "execution_count": 8,
   "id": "1d7f30c6",
   "metadata": {},
   "outputs": [],
   "source": [
    "from texture_sampler import load_texture, sample_uv\n",
    "\n",
    "tex = load_texture(\"LightmapsData/SHCoefficients_0.bin\", \"LightmapsData/SHCoefficients_0.json\")"
   ]
  },
  {
   "cell_type": "code",
   "execution_count": 9,
   "id": "e21434c1",
   "metadata": {},
   "outputs": [
    {
     "data": {
      "text/plain": [
       "array([0.51373, 0.71373, 0.35294, 0.49412], dtype=float32)"
      ]
     },
     "execution_count": 9,
     "metadata": {},
     "output_type": "execute_result"
    }
   ],
   "source": [
    "sample_uv(tex, 0.01, 0.01, 0.00)"
   ]
  },
  {
   "cell_type": "code",
   "execution_count": 10,
   "id": "8f7df16b",
   "metadata": {},
   "outputs": [],
   "source": [
    "# test ambient vector texture"
   ]
  },
  {
   "cell_type": "code",
   "execution_count": 11,
   "id": "2da04ff2",
   "metadata": {},
   "outputs": [],
   "source": [
    "# BrickTextureUVs __i06676.x, __i16677.x, __i26678.x float3 0.31288, 0.43666, 0.66076\n",
    "# AmbientVector _8422.x, _8423.x, _8424.x float3 1.48535, 0.98926, 0.81299"
   ]
  },
  {
   "cell_type": "code",
   "execution_count": 12,
   "id": "4941f812",
   "metadata": {},
   "outputs": [],
   "source": [
    "ambient_tex = load_texture(\"LightmapsData/AmbientVector.bin\", \"LightmapsData/AmbientVector.json\")"
   ]
  },
  {
   "cell_type": "code",
   "execution_count": 13,
   "id": "8422ae6d",
   "metadata": {},
   "outputs": [
    {
     "data": {
      "text/plain": [
       "array([0., 0., 0.], dtype=float32)"
      ]
     },
     "execution_count": 13,
     "metadata": {},
     "output_type": "execute_result"
    }
   ],
   "source": [
    "sample_uv(ambient_tex, 1.0, 1.0, 1.0)"
   ]
  },
  {
   "cell_type": "code",
   "execution_count": 14,
   "id": "1b4a1fb2",
   "metadata": {},
   "outputs": [
    {
     "name": "stdout",
     "output_type": "stream",
     "text": [
      "hardware: [1.48535 0.98926 0.81299]\n",
      "software: [1.48514 0.98941 0.81304]\n"
     ]
    }
   ],
   "source": [
    "hardware_sample = np.array([1.48535, 0.98926, 0.81299])\n",
    "software_sample = sample_uv(ambient_tex, 0.31288, 0.43666, 0.66076)\n",
    "print(\"hardware:\", hardware_sample)\n",
    "print(\"software:\", software_sample)"
   ]
  },
  {
   "cell_type": "code",
   "execution_count": 15,
   "id": "9eabed47",
   "metadata": {},
   "outputs": [
    {
     "data": {
      "text/plain": [
       "array([2.11226e-04, 1.50698e-04, 4.81107e-05])"
      ]
     },
     "execution_count": 15,
     "metadata": {},
     "output_type": "execute_result"
    }
   ],
   "source": [
    "np.abs(hardware_sample - software_sample)"
   ]
  },
  {
   "cell_type": "code",
   "execution_count": null,
   "id": "34ff50fe",
   "metadata": {},
   "outputs": [],
   "source": []
  }
 ],
 "metadata": {
  "kernelspec": {
   "display_name": "neural-lightmaps",
   "language": "python",
   "name": "python3"
  },
  "language_info": {
   "codemirror_mode": {
    "name": "ipython",
    "version": 3
   },
   "file_extension": ".py",
   "mimetype": "text/x-python",
   "name": "python",
   "nbconvert_exporter": "python",
   "pygments_lexer": "ipython3",
   "version": "3.13.5"
  }
 },
 "nbformat": 4,
 "nbformat_minor": 5
}
